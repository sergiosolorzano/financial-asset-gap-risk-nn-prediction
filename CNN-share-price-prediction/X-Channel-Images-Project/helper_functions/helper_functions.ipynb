{
 "cells": [
  {
   "cell_type": "code",
   "execution_count": 1,
   "metadata": {},
   "outputs": [
    {
     "name": "stdout",
     "output_type": "stream",
     "text": [
      "2.3.0+cu121\n"
     ]
    }
   ],
   "source": [
    "from __future__ import print_function\n",
    "\n",
    "import os\n",
    "import sys\n",
    "import glob\n",
    "import time\n",
    "\n",
    "import torch\n",
    "print(torch.__version__)"
   ]
  },
  {
   "cell_type": "code",
   "execution_count": 6,
   "metadata": {},
   "outputs": [],
   "source": [
    "def Delete_Scenario_Files():\n",
    "    scenario_files = glob.glob('*scenario*') #find files\n",
    "    iteration_files = glob.glob('*iteration*')\n",
    "    optimizer_files = glob.glob('*optimizer*')\n",
    "    model_files = glob.glob('*model*')\n",
    "\n",
    "    files_to_delete = scenario_files + iteration_files + optimizer_files + model_files\n",
    "    files_to_delete = [file for file in files_to_delete if file != 'model_card.md']\n",
    "    \n",
    "    for file in files_to_delete:\n",
    "        try:\n",
    "            os.remove(file)\n",
    "            print(f\"Deleted {file}\")\n",
    "        except OSError as e:\n",
    "            print(f\"Error deleting {file}: {e}\")\n",
    "\n",
    "def Save_BayesOpt_Model(scenario, net):\n",
    "    PATH = f'./model_bayesOpt_iteration_{scenario}.pth'\n",
    "    torch.save(net.state_dict(), PATH)\n",
    "\n",
    "def Save_Scenario_State_Model(scenario, net):\n",
    "    PATH = f'./model_scen_{scenario}_state.pth'\n",
    "    torch.save(net.state_dict(), PATH)\n",
    "\n",
    "def Save_Scenario_Full_Model(scenario, net):\n",
    "    PATH = f'./model_scen_{scenario}_full.pth'\n",
    "    torch.save(net, PATH)\n",
    "\n",
    "def Load_State_Model(net, PATH):\n",
    "    print(\"Loading State Model\")\n",
    "    net.load_state_dict(torch.load(PATH))\n",
    "    net.eval()\n",
    "    return net\n",
    "\n",
    "def Load_Full_Model(PATH):\n",
    "    if os.path.exists(PATH):\n",
    "        print(\"Loading Full Model\")\n",
    "        net = torch.load(PATH)\n",
    "        net.eval()\n",
    "        return net\n",
    "    else:\n",
    "        print(f\"Model {PATH} does not exist\")\n",
    "\n",
    "def Clear_Scenario_Log(scenario):\n",
    "    with open(f'scenario_{scenario}.txt', 'w') as file:\n",
    "        file.write('')\n",
    "\n",
    "def Scenario_Log(output_string):\n",
    "    with open(f'scenarios_output.txt', 'a') as file:\n",
    "        file.write('\\n\\n' + output_string)\n",
    "\n",
    "def Load_BayesOpt_Model(scenario, net):\n",
    "    PATH = f'./bayesian_optimization_saved_models/model_bayesOpt_iteration_{scenario}.pth'\n",
    "    print(\"path model is \",PATH)\n",
    "    net.load_state_dict(torch.load(PATH))\n",
    "    net.eval()\n",
    "    return net"
   ]
  }
 ],
 "metadata": {
  "kernelspec": {
   "display_name": ".venv",
   "language": "python",
   "name": "python3"
  },
  "language_info": {
   "codemirror_mode": {
    "name": "ipython",
    "version": 3
   },
   "file_extension": ".py",
   "mimetype": "text/x-python",
   "name": "python",
   "nbconvert_exporter": "python",
   "pygments_lexer": "ipython3",
   "version": "3.10.11"
  }
 },
 "nbformat": 4,
 "nbformat_minor": 2
}
