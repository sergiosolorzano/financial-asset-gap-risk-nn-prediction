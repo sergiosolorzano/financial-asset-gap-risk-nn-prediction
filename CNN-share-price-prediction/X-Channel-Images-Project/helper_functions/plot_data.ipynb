{
 "cells": [
  {
   "cell_type": "code",
   "execution_count": 6,
   "metadata": {},
   "outputs": [
    {
     "name": "stdout",
     "output_type": "stream",
     "text": [
      "2.3.0+cu121\n"
     ]
    }
   ],
   "source": [
    "from __future__ import print_function\n",
    "\n",
    "import os\n",
    "import sys\n",
    "\n",
    "import numpy as np\n",
    "import pandas as pd\n",
    "\n",
    "import matplotlib.pyplot as plt\n",
    "import seaborn as sns\n",
    "\n",
    "import torch\n",
    "print(torch.__version__)"
   ]
  },
  {
   "cell_type": "code",
   "execution_count": 7,
   "metadata": {},
   "outputs": [],
   "source": [
    "def plot_weights_gradients(weights_dict, gradients_dict, epoch):\n",
    "    for name, weight_list in weights_dict.items():\n",
    "        plt.figure(figsize=(10, 6))\n",
    "        plt.title(f\"Epoch {epoch + 1} - Weights {name}\")\n",
    "        \n",
    "        for i, w in enumerate(weight_list):\n",
    "            plt.plot(w.flatten())\n",
    "        \n",
    "        plt.xlabel('Weight Index')\n",
    "        plt.ylabel('Weight Value')\n",
    "        plt.legend(loc=\"upper right\")\n",
    "        plt.show()\n",
    "\n",
    "    for name, gradient_list in gradients_dict.items():\n",
    "        plt.figure(figsize=(10, 6))\n",
    "        plt.title(f\"Epoch {epoch + 1} - Gradients {name}\")\n",
    "        \n",
    "        for i, g in enumerate(gradient_list):\n",
    "            plt.plot(g.flatten())\n",
    "        \n",
    "        plt.xlabel('Gradient Index')\n",
    "        plt.ylabel('Gradient Value')\n",
    "        plt.legend(loc=\"upper right\")\n",
    "        plt.show()"
   ]
  },
  {
   "cell_type": "code",
   "execution_count": 8,
   "metadata": {},
   "outputs": [],
   "source": [
    "def scatter_diagram_onevar(stack_input):\n",
    "    torch.set_printoptions(threshold=torch.inf)\n",
    "    input_mean = stack_input.view(64, -1).mean(1, keepdim=True)\n",
    "\n",
    "    df = pd.DataFrame({\n",
    "        'input_mean': input_mean.cpu().numpy().flatten()\n",
    "    })\n",
    "\n",
    "    plt.figure(figsize=(10, 6))\n",
    "    plt.scatter(df.index, df['input_mean'], c='red', marker='x', label='Input Mean Values')\n",
    "\n",
    "\n",
    "    # Labeling the plot\n",
    "    plt.xlabel('Input Mean Values')\n",
    "    plt.ylabel('Values')\n",
    "    plt.title('Scatter Diagram of Input Mean Values')\n",
    "    plt.legend()\n",
    "    plt.grid(True)\n",
    "\n",
    "    # Show the plot\n",
    "    plt.show()"
   ]
  },
  {
   "cell_type": "code",
   "execution_count": null,
   "metadata": {},
   "outputs": [],
   "source": [
    "def scatter_diagram_twovar(test_stock_ticker,train_stock_ticker,var1, var2):\n",
    "    #torch.set_printoptions(threshold=torch.inf)\n",
    "    var1_mean = var1.view(64, -1).mean(1, keepdim=True)\n",
    "    var2_mean = var2.view(64, -1).mean(1, keepdim=True)\n",
    "\n",
    "    df = pd.DataFrame({\n",
    "        'var1_mean': var1_mean.cpu().numpy().flatten(),\n",
    "        'var2_mean': var2_mean.cpu().numpy().flatten()\n",
    "    })\n",
    "\n",
    "    plt.figure(figsize=(10, 6))\n",
    "    plt.scatter(df.index, df['var1_mean'], c='red', marker='x', label=f'{test_stock_ticker} Mean Values')\n",
    "    plt.scatter(df.index, df['var2_mean'], c='blue', marker='x', label=f'{train_stock_ticker} Mean Values')\n",
    "\n",
    "\n",
    "    # Labeling the plot\n",
    "    plt.xlabel(f'{test_stock_ticker} and {train_stock_ticker} Mean Values')\n",
    "    plt.ylabel('Values')\n",
    "    plt.title(f'Scatter Diagram of {test_stock_ticker} and {train_stock_ticker} Mean Values')\n",
    "    plt.legend()\n",
    "    plt.grid(True)\n",
    "\n",
    "    # Show the plot\n",
    "    plt.show()"
   ]
  }
 ],
 "metadata": {
  "kernelspec": {
   "display_name": ".venv",
   "language": "python",
   "name": "python3"
  },
  "language_info": {
   "codemirror_mode": {
    "name": "ipython",
    "version": 3
   },
   "file_extension": ".py",
   "mimetype": "text/x-python",
   "name": "python",
   "nbconvert_exporter": "python",
   "pygments_lexer": "ipython3",
   "version": "3.10.11"
  }
 },
 "nbformat": 4,
 "nbformat_minor": 2
}
