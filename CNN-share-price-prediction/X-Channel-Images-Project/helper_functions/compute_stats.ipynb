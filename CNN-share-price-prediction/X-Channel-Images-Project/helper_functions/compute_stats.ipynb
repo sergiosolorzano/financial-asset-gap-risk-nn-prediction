{
 "cells": [
  {
   "cell_type": "code",
   "execution_count": null,
   "metadata": {},
   "outputs": [],
   "source": [
    "import torch"
   ]
  },
  {
   "cell_type": "code",
   "execution_count": null,
   "metadata": {},
   "outputs": [],
   "source": [
    "def compute_error_stats(var1, var2):\n",
    "    mae = torch.mean(torch.abs(var1 - var2))\n",
    "\n",
    "    mse = torch.mean((var1 - var2) ** 2)\n",
    "\n",
    "    rmse = torch.sqrt(mse)\n",
    "\n",
    "    mape = torch.mean(torch.abs((var1 - var2) / var1)) * 100\n",
    "\n",
    "    ss_total = torch.sum((var1 - torch.mean(var1)) ** 2)\n",
    "    ss_residual = torch.sum((var1 - var2) ** 2)\n",
    "    r2 = 1 - (ss_residual / ss_total)\n",
    "\n",
    "    return {\n",
    "        'MAE': mae.item(),\n",
    "        'MSE': mse.item(),\n",
    "        'RMSE': rmse.item(),\n",
    "        'MAPE': mape.item(),\n",
    "        'R2': r2.item()\n",
    "    }"
   ]
  },
  {
   "cell_type": "code",
   "execution_count": null,
   "metadata": {},
   "outputs": [],
   "source": [
    "def self_correlation_feature_1_feature_2(stock_df,feature_1,feature_2):\n",
    "    correlations = {}\n",
    "    correlation = stock_df[feature_1].corr(stock_df[feature_2])\n",
    "    return (f'Correlation between {feature_1} and {feature_2}: {correlation:.4f}')"
   ]
  },
  {
   "cell_type": "code",
   "execution_count": null,
   "metadata": {},
   "outputs": [],
   "source": [
    "def stock_correlation_matrix(stock_ticker,stock_df):\n",
    "    correlation_matrix = stock_df.corr(method='pearson')\n",
    "    print(\"Stock Correlation\",stock_ticker)\n",
    "    print(correlation_matrix)"
   ]
  },
  {
   "cell_type": "code",
   "execution_count": null,
   "metadata": {},
   "outputs": [],
   "source": [
    "def cross_stock_df_correlation(stock_ticker,index_ticker,stock_1_df, stock_2_df):\n",
    "    #align frames\n",
    "    stock_1_data, stock_2_data = stock_1_df.align(stock_2_df, join='inner')\n",
    "    \n",
    "    correlations = {}\n",
    "    for column in stock_1_df.columns:\n",
    "        correlation = stock_1_data[column].corr(stock_2_data[column])\n",
    "        correlations[column] = correlation\n",
    "\n",
    "    for feature, correlation in correlations.items():\n",
    "        print(f'Correlation between {feature} of {stock_ticker} and {index_ticker}: {correlation:.4f}')"
   ]
  },
  {
   "cell_type": "code",
   "execution_count": null,
   "metadata": {},
   "outputs": [],
   "source": [
    "def cross_stock_image_array_correlation(var1, var2):\n",
    "    var1 = var1.numpy()\n",
    "    var2 = var2.numpy()\n",
    "    var1 = var1.reshape(64, -1)\n",
    "    var2 = var2.reshape(64, -1)\n",
    "    \n",
    "    correlation_matrix = np.corrcoef(var1, var2, rowvar=False)\n",
    "\n",
    "    print(f\"Cross Correlation Test Stock Images vs Benchmark\",correlation_matrix)"
   ]
  }
 ],
 "metadata": {
  "language_info": {
   "name": "python"
  }
 },
 "nbformat": 4,
 "nbformat_minor": 2
}
